{
  "nbformat": 4,
  "nbformat_minor": 0,
  "metadata": {
    "colab": {
      "provenance": [],
      "include_colab_link": true
    },
    "kernelspec": {
      "name": "python3",
      "display_name": "Python 3"
    },
    "language_info": {
      "name": "python"
    }
  },
  "cells": [
    {
      "cell_type": "markdown",
      "metadata": {
        "id": "view-in-github",
        "colab_type": "text"
      },
      "source": [
        "<a href=\"https://colab.research.google.com/github/Psyclophe/datasets/blob/master/Semana2_1_Aps_Financieras5_Intro_Keras.ipynb\" target=\"_parent\"><img src=\"https://colab.research.google.com/assets/colab-badge.svg\" alt=\"Open In Colab\"/></a>"
      ]
    },
    {
      "cell_type": "markdown",
      "source": [
        "[![Open In Colab](https://colab.research.google.com/assets/colab-badge.svg)](https://colab.research.google.com/github/MaxMitre/Aplicaciones-Financieras/blob/main/Semana2/Intro_Keras..ipynb)"
      ],
      "metadata": {
        "id": "7349NUkNQQWW"
      }
    },
    {
      "cell_type": "markdown",
      "source": [
        "# Problema\n",
        "\n",
        "Esta semana utilizaremos el mismo DataSet para ambas sesiones. Ésta primera sesión será para analizar un problema de fraude de modo sencillo, es decir, con un clasificador binario sencillo (que nos servirá para introducir algunas herramientas).\n",
        "\n",
        "Podemos encontrar la base de datos en https://www.kaggle.com/datasets/mlg-ulb/creditcardfraud\n",
        "\n",
        "Los datos contienen transacciones realizadas mediante trarjeta de crédito en Septiembre del 2013 por titulares de tarjeta en Europa. Ocurrieron en 2 días en los que hubo 492 fraudes de 284,807 transacciones.\n",
        "\n",
        "Solo contiene variables numéricas y ya pasó por un proceso de PCA para solo quedarse con las mejores características.\n",
        "\n",
        "La columna de \"Time\" contiene los segundos ocurridos entre transacciones. \"Amount\" es la cantidad de la transacción y \"Class\" es la variable que tiene 1 en caso de fraude y 0 en caso contrario."
      ],
      "metadata": {
        "id": "uudpvvkIIXwm"
      }
    },
    {
      "cell_type": "code",
      "source": [
        "from google.colab import drive\n",
        "drive.mount('/content/drive')"
      ],
      "metadata": {
        "id": "aYYkRFOwE9HG",
        "colab": {
          "base_uri": "https://localhost:8080/"
        },
        "outputId": "231be015-37a0-41e0-b5d2-720cdb860c47"
      },
      "execution_count": 1,
      "outputs": [
        {
          "output_type": "stream",
          "name": "stdout",
          "text": [
            "Mounted at /content/drive\n"
          ]
        }
      ]
    },
    {
      "cell_type": "markdown",
      "source": [
        "# Leer Datos usando un método distinto al que estamos acostumbrados"
      ],
      "metadata": {
        "id": "Lk9av5KKHYgC"
      }
    },
    {
      "cell_type": "code",
      "execution_count": 2,
      "metadata": {
        "id": "EQUuvtmbEqpK",
        "colab": {
          "base_uri": "https://localhost:8080/"
        },
        "outputId": "1390ff51-8a05-4435-b8b3-5a07e0e133c7"
      },
      "outputs": [
        {
          "output_type": "stream",
          "name": "stdout",
          "text": [
            "HEADER: \"Time\",\"V1\",\"V2\",\"V3\",\"V4\",\"V5\",\"V6\",\"V7\",\"V8\",\"V9\",\"V10\",\"V11\",\"V12\",\"V13\",\"V14\",\"V15\",\"V16\",\"V17\",\"V18\",\"V19\",\"V20\",\"V21\",\"V22\",\"V23\",\"V24\",\"V25\",\"V26\",\"V27\",\"V28\",\"Amount\",\"Class\"\n",
            "EJEMPLO DE CARACTERÍSTICAS: [0.0, -1.3598071336738, -0.0727811733098497, 2.53634673796914, 1.37815522427443, -0.338320769942518, 0.462387777762292, 0.239598554061257, 0.0986979012610507, 0.363786969611213, 0.0907941719789316, -0.551599533260813, -0.617800855762348, -0.991389847235408, -0.311169353699879, 1.46817697209427, -0.470400525259478, 0.207971241929242, 0.0257905801985591, 0.403992960255733, 0.251412098239705, -0.018306777944153, 0.277837575558899, -0.110473910188767, 0.0669280749146731, 0.128539358273528, -0.189114843888824, 0.133558376740387, -0.0210530534538215, 149.62]\n",
            "features.shape: (284807, 30)\n",
            "targets.shape: (284807, 1)\n"
          ]
        }
      ],
      "source": [
        "import numpy as np\n",
        "\n",
        "# Datos disponibles en https://www.kaggle.com/mlg-ulb/creditcardfraud/\n",
        "\n",
        "all_features = []\n",
        "all_targets = []\n",
        "with open('/content/drive/MyDrive/Cruso-ApsFinancieras/semana3/creditcard.csv') as f:\n",
        "    for i, line in enumerate(f):\n",
        "        if i == 0:\n",
        "            print(\"HEADER:\", line.strip())\n",
        "            continue  # Skip header\n",
        "        fields = line.strip().split(\",\")\n",
        "        all_features.append([float(v.replace('\"', \"\")) for v in fields[:-1]])\n",
        "        all_targets.append([int(fields[-1].replace('\"', \"\"))])\n",
        "        if i == 1:\n",
        "            print(\"EJEMPLO DE CARACTERÍSTICAS:\", all_features[-1])\n",
        "\n",
        "features = np.array(all_features, dtype=\"float32\")\n",
        "targets = np.array(all_targets, dtype=\"uint8\")\n",
        "print(\"features.shape:\", features.shape)\n",
        "print(\"targets.shape:\", targets.shape)"
      ]
    },
    {
      "cell_type": "code",
      "source": [
        "import pandas as pd\n",
        "\n",
        "en_dataframe = pd.read_csv('/content/drive/MyDrive/Cruso-ApsFinancieras/semana3/creditcard.csv')"
      ],
      "metadata": {
        "id": "FQ6OYI_RRu7F"
      },
      "execution_count": 3,
      "outputs": []
    },
    {
      "cell_type": "code",
      "source": [
        "en_dataframe"
      ],
      "metadata": {
        "colab": {
          "base_uri": "https://localhost:8080/",
          "height": 488
        },
        "id": "hhkH6A1exRcf",
        "outputId": "818b2682-6e70-4ea7-91d6-048cdea7feb1"
      },
      "execution_count": 4,
      "outputs": [
        {
          "output_type": "execute_result",
          "data": {
            "text/plain": [
              "            Time         V1         V2        V3        V4        V5  \\\n",
              "0            0.0  -1.359807  -0.072781  2.536347  1.378155 -0.338321   \n",
              "1            0.0   1.191857   0.266151  0.166480  0.448154  0.060018   \n",
              "2            1.0  -1.358354  -1.340163  1.773209  0.379780 -0.503198   \n",
              "3            1.0  -0.966272  -0.185226  1.792993 -0.863291 -0.010309   \n",
              "4            2.0  -1.158233   0.877737  1.548718  0.403034 -0.407193   \n",
              "...          ...        ...        ...       ...       ...       ...   \n",
              "284802  172786.0 -11.881118  10.071785 -9.834783 -2.066656 -5.364473   \n",
              "284803  172787.0  -0.732789  -0.055080  2.035030 -0.738589  0.868229   \n",
              "284804  172788.0   1.919565  -0.301254 -3.249640 -0.557828  2.630515   \n",
              "284805  172788.0  -0.240440   0.530483  0.702510  0.689799 -0.377961   \n",
              "284806  172792.0  -0.533413  -0.189733  0.703337 -0.506271 -0.012546   \n",
              "\n",
              "              V6        V7        V8        V9  ...       V21       V22  \\\n",
              "0       0.462388  0.239599  0.098698  0.363787  ... -0.018307  0.277838   \n",
              "1      -0.082361 -0.078803  0.085102 -0.255425  ... -0.225775 -0.638672   \n",
              "2       1.800499  0.791461  0.247676 -1.514654  ...  0.247998  0.771679   \n",
              "3       1.247203  0.237609  0.377436 -1.387024  ... -0.108300  0.005274   \n",
              "4       0.095921  0.592941 -0.270533  0.817739  ... -0.009431  0.798278   \n",
              "...          ...       ...       ...       ...  ...       ...       ...   \n",
              "284802 -2.606837 -4.918215  7.305334  1.914428  ...  0.213454  0.111864   \n",
              "284803  1.058415  0.024330  0.294869  0.584800  ...  0.214205  0.924384   \n",
              "284804  3.031260 -0.296827  0.708417  0.432454  ...  0.232045  0.578229   \n",
              "284805  0.623708 -0.686180  0.679145  0.392087  ...  0.265245  0.800049   \n",
              "284806 -0.649617  1.577006 -0.414650  0.486180  ...  0.261057  0.643078   \n",
              "\n",
              "             V23       V24       V25       V26       V27       V28  Amount  \\\n",
              "0      -0.110474  0.066928  0.128539 -0.189115  0.133558 -0.021053  149.62   \n",
              "1       0.101288 -0.339846  0.167170  0.125895 -0.008983  0.014724    2.69   \n",
              "2       0.909412 -0.689281 -0.327642 -0.139097 -0.055353 -0.059752  378.66   \n",
              "3      -0.190321 -1.175575  0.647376 -0.221929  0.062723  0.061458  123.50   \n",
              "4      -0.137458  0.141267 -0.206010  0.502292  0.219422  0.215153   69.99   \n",
              "...          ...       ...       ...       ...       ...       ...     ...   \n",
              "284802  1.014480 -0.509348  1.436807  0.250034  0.943651  0.823731    0.77   \n",
              "284803  0.012463 -1.016226 -0.606624 -0.395255  0.068472 -0.053527   24.79   \n",
              "284804 -0.037501  0.640134  0.265745 -0.087371  0.004455 -0.026561   67.88   \n",
              "284805 -0.163298  0.123205 -0.569159  0.546668  0.108821  0.104533   10.00   \n",
              "284806  0.376777  0.008797 -0.473649 -0.818267 -0.002415  0.013649  217.00   \n",
              "\n",
              "        Class  \n",
              "0           0  \n",
              "1           0  \n",
              "2           0  \n",
              "3           0  \n",
              "4           0  \n",
              "...       ...  \n",
              "284802      0  \n",
              "284803      0  \n",
              "284804      0  \n",
              "284805      0  \n",
              "284806      0  \n",
              "\n",
              "[284807 rows x 31 columns]"
            ],
            "text/html": [
              "\n",
              "  <div id=\"df-4893e7c2-a6b7-4f32-aa2b-04a7e50a0e2b\">\n",
              "    <div class=\"colab-df-container\">\n",
              "      <div>\n",
              "<style scoped>\n",
              "    .dataframe tbody tr th:only-of-type {\n",
              "        vertical-align: middle;\n",
              "    }\n",
              "\n",
              "    .dataframe tbody tr th {\n",
              "        vertical-align: top;\n",
              "    }\n",
              "\n",
              "    .dataframe thead th {\n",
              "        text-align: right;\n",
              "    }\n",
              "</style>\n",
              "<table border=\"1\" class=\"dataframe\">\n",
              "  <thead>\n",
              "    <tr style=\"text-align: right;\">\n",
              "      <th></th>\n",
              "      <th>Time</th>\n",
              "      <th>V1</th>\n",
              "      <th>V2</th>\n",
              "      <th>V3</th>\n",
              "      <th>V4</th>\n",
              "      <th>V5</th>\n",
              "      <th>V6</th>\n",
              "      <th>V7</th>\n",
              "      <th>V8</th>\n",
              "      <th>V9</th>\n",
              "      <th>...</th>\n",
              "      <th>V21</th>\n",
              "      <th>V22</th>\n",
              "      <th>V23</th>\n",
              "      <th>V24</th>\n",
              "      <th>V25</th>\n",
              "      <th>V26</th>\n",
              "      <th>V27</th>\n",
              "      <th>V28</th>\n",
              "      <th>Amount</th>\n",
              "      <th>Class</th>\n",
              "    </tr>\n",
              "  </thead>\n",
              "  <tbody>\n",
              "    <tr>\n",
              "      <th>0</th>\n",
              "      <td>0.0</td>\n",
              "      <td>-1.359807</td>\n",
              "      <td>-0.072781</td>\n",
              "      <td>2.536347</td>\n",
              "      <td>1.378155</td>\n",
              "      <td>-0.338321</td>\n",
              "      <td>0.462388</td>\n",
              "      <td>0.239599</td>\n",
              "      <td>0.098698</td>\n",
              "      <td>0.363787</td>\n",
              "      <td>...</td>\n",
              "      <td>-0.018307</td>\n",
              "      <td>0.277838</td>\n",
              "      <td>-0.110474</td>\n",
              "      <td>0.066928</td>\n",
              "      <td>0.128539</td>\n",
              "      <td>-0.189115</td>\n",
              "      <td>0.133558</td>\n",
              "      <td>-0.021053</td>\n",
              "      <td>149.62</td>\n",
              "      <td>0</td>\n",
              "    </tr>\n",
              "    <tr>\n",
              "      <th>1</th>\n",
              "      <td>0.0</td>\n",
              "      <td>1.191857</td>\n",
              "      <td>0.266151</td>\n",
              "      <td>0.166480</td>\n",
              "      <td>0.448154</td>\n",
              "      <td>0.060018</td>\n",
              "      <td>-0.082361</td>\n",
              "      <td>-0.078803</td>\n",
              "      <td>0.085102</td>\n",
              "      <td>-0.255425</td>\n",
              "      <td>...</td>\n",
              "      <td>-0.225775</td>\n",
              "      <td>-0.638672</td>\n",
              "      <td>0.101288</td>\n",
              "      <td>-0.339846</td>\n",
              "      <td>0.167170</td>\n",
              "      <td>0.125895</td>\n",
              "      <td>-0.008983</td>\n",
              "      <td>0.014724</td>\n",
              "      <td>2.69</td>\n",
              "      <td>0</td>\n",
              "    </tr>\n",
              "    <tr>\n",
              "      <th>2</th>\n",
              "      <td>1.0</td>\n",
              "      <td>-1.358354</td>\n",
              "      <td>-1.340163</td>\n",
              "      <td>1.773209</td>\n",
              "      <td>0.379780</td>\n",
              "      <td>-0.503198</td>\n",
              "      <td>1.800499</td>\n",
              "      <td>0.791461</td>\n",
              "      <td>0.247676</td>\n",
              "      <td>-1.514654</td>\n",
              "      <td>...</td>\n",
              "      <td>0.247998</td>\n",
              "      <td>0.771679</td>\n",
              "      <td>0.909412</td>\n",
              "      <td>-0.689281</td>\n",
              "      <td>-0.327642</td>\n",
              "      <td>-0.139097</td>\n",
              "      <td>-0.055353</td>\n",
              "      <td>-0.059752</td>\n",
              "      <td>378.66</td>\n",
              "      <td>0</td>\n",
              "    </tr>\n",
              "    <tr>\n",
              "      <th>3</th>\n",
              "      <td>1.0</td>\n",
              "      <td>-0.966272</td>\n",
              "      <td>-0.185226</td>\n",
              "      <td>1.792993</td>\n",
              "      <td>-0.863291</td>\n",
              "      <td>-0.010309</td>\n",
              "      <td>1.247203</td>\n",
              "      <td>0.237609</td>\n",
              "      <td>0.377436</td>\n",
              "      <td>-1.387024</td>\n",
              "      <td>...</td>\n",
              "      <td>-0.108300</td>\n",
              "      <td>0.005274</td>\n",
              "      <td>-0.190321</td>\n",
              "      <td>-1.175575</td>\n",
              "      <td>0.647376</td>\n",
              "      <td>-0.221929</td>\n",
              "      <td>0.062723</td>\n",
              "      <td>0.061458</td>\n",
              "      <td>123.50</td>\n",
              "      <td>0</td>\n",
              "    </tr>\n",
              "    <tr>\n",
              "      <th>4</th>\n",
              "      <td>2.0</td>\n",
              "      <td>-1.158233</td>\n",
              "      <td>0.877737</td>\n",
              "      <td>1.548718</td>\n",
              "      <td>0.403034</td>\n",
              "      <td>-0.407193</td>\n",
              "      <td>0.095921</td>\n",
              "      <td>0.592941</td>\n",
              "      <td>-0.270533</td>\n",
              "      <td>0.817739</td>\n",
              "      <td>...</td>\n",
              "      <td>-0.009431</td>\n",
              "      <td>0.798278</td>\n",
              "      <td>-0.137458</td>\n",
              "      <td>0.141267</td>\n",
              "      <td>-0.206010</td>\n",
              "      <td>0.502292</td>\n",
              "      <td>0.219422</td>\n",
              "      <td>0.215153</td>\n",
              "      <td>69.99</td>\n",
              "      <td>0</td>\n",
              "    </tr>\n",
              "    <tr>\n",
              "      <th>...</th>\n",
              "      <td>...</td>\n",
              "      <td>...</td>\n",
              "      <td>...</td>\n",
              "      <td>...</td>\n",
              "      <td>...</td>\n",
              "      <td>...</td>\n",
              "      <td>...</td>\n",
              "      <td>...</td>\n",
              "      <td>...</td>\n",
              "      <td>...</td>\n",
              "      <td>...</td>\n",
              "      <td>...</td>\n",
              "      <td>...</td>\n",
              "      <td>...</td>\n",
              "      <td>...</td>\n",
              "      <td>...</td>\n",
              "      <td>...</td>\n",
              "      <td>...</td>\n",
              "      <td>...</td>\n",
              "      <td>...</td>\n",
              "      <td>...</td>\n",
              "    </tr>\n",
              "    <tr>\n",
              "      <th>284802</th>\n",
              "      <td>172786.0</td>\n",
              "      <td>-11.881118</td>\n",
              "      <td>10.071785</td>\n",
              "      <td>-9.834783</td>\n",
              "      <td>-2.066656</td>\n",
              "      <td>-5.364473</td>\n",
              "      <td>-2.606837</td>\n",
              "      <td>-4.918215</td>\n",
              "      <td>7.305334</td>\n",
              "      <td>1.914428</td>\n",
              "      <td>...</td>\n",
              "      <td>0.213454</td>\n",
              "      <td>0.111864</td>\n",
              "      <td>1.014480</td>\n",
              "      <td>-0.509348</td>\n",
              "      <td>1.436807</td>\n",
              "      <td>0.250034</td>\n",
              "      <td>0.943651</td>\n",
              "      <td>0.823731</td>\n",
              "      <td>0.77</td>\n",
              "      <td>0</td>\n",
              "    </tr>\n",
              "    <tr>\n",
              "      <th>284803</th>\n",
              "      <td>172787.0</td>\n",
              "      <td>-0.732789</td>\n",
              "      <td>-0.055080</td>\n",
              "      <td>2.035030</td>\n",
              "      <td>-0.738589</td>\n",
              "      <td>0.868229</td>\n",
              "      <td>1.058415</td>\n",
              "      <td>0.024330</td>\n",
              "      <td>0.294869</td>\n",
              "      <td>0.584800</td>\n",
              "      <td>...</td>\n",
              "      <td>0.214205</td>\n",
              "      <td>0.924384</td>\n",
              "      <td>0.012463</td>\n",
              "      <td>-1.016226</td>\n",
              "      <td>-0.606624</td>\n",
              "      <td>-0.395255</td>\n",
              "      <td>0.068472</td>\n",
              "      <td>-0.053527</td>\n",
              "      <td>24.79</td>\n",
              "      <td>0</td>\n",
              "    </tr>\n",
              "    <tr>\n",
              "      <th>284804</th>\n",
              "      <td>172788.0</td>\n",
              "      <td>1.919565</td>\n",
              "      <td>-0.301254</td>\n",
              "      <td>-3.249640</td>\n",
              "      <td>-0.557828</td>\n",
              "      <td>2.630515</td>\n",
              "      <td>3.031260</td>\n",
              "      <td>-0.296827</td>\n",
              "      <td>0.708417</td>\n",
              "      <td>0.432454</td>\n",
              "      <td>...</td>\n",
              "      <td>0.232045</td>\n",
              "      <td>0.578229</td>\n",
              "      <td>-0.037501</td>\n",
              "      <td>0.640134</td>\n",
              "      <td>0.265745</td>\n",
              "      <td>-0.087371</td>\n",
              "      <td>0.004455</td>\n",
              "      <td>-0.026561</td>\n",
              "      <td>67.88</td>\n",
              "      <td>0</td>\n",
              "    </tr>\n",
              "    <tr>\n",
              "      <th>284805</th>\n",
              "      <td>172788.0</td>\n",
              "      <td>-0.240440</td>\n",
              "      <td>0.530483</td>\n",
              "      <td>0.702510</td>\n",
              "      <td>0.689799</td>\n",
              "      <td>-0.377961</td>\n",
              "      <td>0.623708</td>\n",
              "      <td>-0.686180</td>\n",
              "      <td>0.679145</td>\n",
              "      <td>0.392087</td>\n",
              "      <td>...</td>\n",
              "      <td>0.265245</td>\n",
              "      <td>0.800049</td>\n",
              "      <td>-0.163298</td>\n",
              "      <td>0.123205</td>\n",
              "      <td>-0.569159</td>\n",
              "      <td>0.546668</td>\n",
              "      <td>0.108821</td>\n",
              "      <td>0.104533</td>\n",
              "      <td>10.00</td>\n",
              "      <td>0</td>\n",
              "    </tr>\n",
              "    <tr>\n",
              "      <th>284806</th>\n",
              "      <td>172792.0</td>\n",
              "      <td>-0.533413</td>\n",
              "      <td>-0.189733</td>\n",
              "      <td>0.703337</td>\n",
              "      <td>-0.506271</td>\n",
              "      <td>-0.012546</td>\n",
              "      <td>-0.649617</td>\n",
              "      <td>1.577006</td>\n",
              "      <td>-0.414650</td>\n",
              "      <td>0.486180</td>\n",
              "      <td>...</td>\n",
              "      <td>0.261057</td>\n",
              "      <td>0.643078</td>\n",
              "      <td>0.376777</td>\n",
              "      <td>0.008797</td>\n",
              "      <td>-0.473649</td>\n",
              "      <td>-0.818267</td>\n",
              "      <td>-0.002415</td>\n",
              "      <td>0.013649</td>\n",
              "      <td>217.00</td>\n",
              "      <td>0</td>\n",
              "    </tr>\n",
              "  </tbody>\n",
              "</table>\n",
              "<p>284807 rows × 31 columns</p>\n",
              "</div>\n",
              "      <button class=\"colab-df-convert\" onclick=\"convertToInteractive('df-4893e7c2-a6b7-4f32-aa2b-04a7e50a0e2b')\"\n",
              "              title=\"Convert this dataframe to an interactive table.\"\n",
              "              style=\"display:none;\">\n",
              "        \n",
              "  <svg xmlns=\"http://www.w3.org/2000/svg\" height=\"24px\"viewBox=\"0 0 24 24\"\n",
              "       width=\"24px\">\n",
              "    <path d=\"M0 0h24v24H0V0z\" fill=\"none\"/>\n",
              "    <path d=\"M18.56 5.44l.94 2.06.94-2.06 2.06-.94-2.06-.94-.94-2.06-.94 2.06-2.06.94zm-11 1L8.5 8.5l.94-2.06 2.06-.94-2.06-.94L8.5 2.5l-.94 2.06-2.06.94zm10 10l.94 2.06.94-2.06 2.06-.94-2.06-.94-.94-2.06-.94 2.06-2.06.94z\"/><path d=\"M17.41 7.96l-1.37-1.37c-.4-.4-.92-.59-1.43-.59-.52 0-1.04.2-1.43.59L10.3 9.45l-7.72 7.72c-.78.78-.78 2.05 0 2.83L4 21.41c.39.39.9.59 1.41.59.51 0 1.02-.2 1.41-.59l7.78-7.78 2.81-2.81c.8-.78.8-2.07 0-2.86zM5.41 20L4 18.59l7.72-7.72 1.47 1.35L5.41 20z\"/>\n",
              "  </svg>\n",
              "      </button>\n",
              "      \n",
              "  <style>\n",
              "    .colab-df-container {\n",
              "      display:flex;\n",
              "      flex-wrap:wrap;\n",
              "      gap: 12px;\n",
              "    }\n",
              "\n",
              "    .colab-df-convert {\n",
              "      background-color: #E8F0FE;\n",
              "      border: none;\n",
              "      border-radius: 50%;\n",
              "      cursor: pointer;\n",
              "      display: none;\n",
              "      fill: #1967D2;\n",
              "      height: 32px;\n",
              "      padding: 0 0 0 0;\n",
              "      width: 32px;\n",
              "    }\n",
              "\n",
              "    .colab-df-convert:hover {\n",
              "      background-color: #E2EBFA;\n",
              "      box-shadow: 0px 1px 2px rgba(60, 64, 67, 0.3), 0px 1px 3px 1px rgba(60, 64, 67, 0.15);\n",
              "      fill: #174EA6;\n",
              "    }\n",
              "\n",
              "    [theme=dark] .colab-df-convert {\n",
              "      background-color: #3B4455;\n",
              "      fill: #D2E3FC;\n",
              "    }\n",
              "\n",
              "    [theme=dark] .colab-df-convert:hover {\n",
              "      background-color: #434B5C;\n",
              "      box-shadow: 0px 1px 3px 1px rgba(0, 0, 0, 0.15);\n",
              "      filter: drop-shadow(0px 1px 2px rgba(0, 0, 0, 0.3));\n",
              "      fill: #FFFFFF;\n",
              "    }\n",
              "  </style>\n",
              "\n",
              "      <script>\n",
              "        const buttonEl =\n",
              "          document.querySelector('#df-4893e7c2-a6b7-4f32-aa2b-04a7e50a0e2b button.colab-df-convert');\n",
              "        buttonEl.style.display =\n",
              "          google.colab.kernel.accessAllowed ? 'block' : 'none';\n",
              "\n",
              "        async function convertToInteractive(key) {\n",
              "          const element = document.querySelector('#df-4893e7c2-a6b7-4f32-aa2b-04a7e50a0e2b');\n",
              "          const dataTable =\n",
              "            await google.colab.kernel.invokeFunction('convertToInteractive',\n",
              "                                                     [key], {});\n",
              "          if (!dataTable) return;\n",
              "\n",
              "          const docLinkHtml = 'Like what you see? Visit the ' +\n",
              "            '<a target=\"_blank\" href=https://colab.research.google.com/notebooks/data_table.ipynb>data table notebook</a>'\n",
              "            + ' to learn more about interactive tables.';\n",
              "          element.innerHTML = '';\n",
              "          dataTable['output_type'] = 'display_data';\n",
              "          await google.colab.output.renderOutput(dataTable, element);\n",
              "          const docLink = document.createElement('div');\n",
              "          docLink.innerHTML = docLinkHtml;\n",
              "          element.appendChild(docLink);\n",
              "        }\n",
              "      </script>\n",
              "    </div>\n",
              "  </div>\n",
              "  "
            ]
          },
          "metadata": {},
          "execution_count": 4
        }
      ]
    },
    {
      "cell_type": "code",
      "source": [
        "features2 = np.array(en_dataframe.iloc[:, :-1])\n",
        "targets2 = np.array(en_dataframe.iloc[:,-1])"
      ],
      "metadata": {
        "id": "_yDZ1O9PSOGt"
      },
      "execution_count": 5,
      "outputs": []
    },
    {
      "cell_type": "code",
      "source": [
        "np.allclose(features, features2, rtol=0.0000001)"
      ],
      "metadata": {
        "colab": {
          "base_uri": "https://localhost:8080/"
        },
        "id": "mXJEP3BVS0nK",
        "outputId": "a183d044-cadb-44e1-dde5-b75b6e5ef0e3"
      },
      "execution_count": 6,
      "outputs": [
        {
          "output_type": "execute_result",
          "data": {
            "text/plain": [
              "True"
            ]
          },
          "metadata": {},
          "execution_count": 6
        }
      ]
    },
    {
      "cell_type": "markdown",
      "source": [
        "## Cuidado con las dimensiones, pueden crear problemas extraños\n",
        "\n",
        "Rompemos la RAM, solo para mostrar cosas que pueden fallar, despues no ejecutaremos esta linea"
      ],
      "metadata": {
        "id": "wDyHjQyiatJh"
      }
    },
    {
      "cell_type": "code",
      "source": [
        "# Si está descomentada, supera nuestra RAM disponible\n",
        "# np.allclose(targets, targets2)"
      ],
      "metadata": {
        "id": "IPL463L8akIu"
      },
      "execution_count": null,
      "outputs": []
    },
    {
      "cell_type": "code",
      "source": [
        "# Esta variable casi llena nuestra RAM, la borraremos abajo\n",
        "aux = (targets[:100000] == targets2[:100000])"
      ],
      "metadata": {
        "id": "1MePrUupTkmq"
      },
      "execution_count": 7,
      "outputs": []
    },
    {
      "cell_type": "code",
      "source": [
        "targets"
      ],
      "metadata": {
        "colab": {
          "base_uri": "https://localhost:8080/"
        },
        "id": "Lj8fzqJfuu_e",
        "outputId": "94b9a54c-0109-47db-fe85-b2a468f27c09"
      },
      "execution_count": 10,
      "outputs": [
        {
          "output_type": "execute_result",
          "data": {
            "text/plain": [
              "array([[0],\n",
              "       [0],\n",
              "       [0],\n",
              "       ...,\n",
              "       [0],\n",
              "       [0],\n",
              "       [0]], dtype=uint8)"
            ]
          },
          "metadata": {},
          "execution_count": 10
        }
      ]
    },
    {
      "cell_type": "code",
      "source": [
        "targets2"
      ],
      "metadata": {
        "colab": {
          "base_uri": "https://localhost:8080/"
        },
        "id": "hudXq4DiuvJq",
        "outputId": "b8a145d8-4f60-49d2-90a7-42cf9b8e9893"
      },
      "execution_count": 11,
      "outputs": [
        {
          "output_type": "execute_result",
          "data": {
            "text/plain": [
              "array([0, 0, 0, ..., 0, 0, 0])"
            ]
          },
          "metadata": {},
          "execution_count": 11
        }
      ]
    },
    {
      "cell_type": "code",
      "source": [
        "aux.shape"
      ],
      "metadata": {
        "colab": {
          "base_uri": "https://localhost:8080/"
        },
        "id": "arH09wX8agPl",
        "outputId": "769798cb-558d-4633-d7a8-5bf246f00b5b"
      },
      "execution_count": null,
      "outputs": [
        {
          "output_type": "execute_result",
          "data": {
            "text/plain": [
              "(100000, 100000)"
            ]
          },
          "metadata": {},
          "execution_count": 16
        }
      ]
    },
    {
      "cell_type": "code",
      "source": [
        "del aux"
      ],
      "metadata": {
        "id": "Bcg42dsHaWyG"
      },
      "execution_count": 9,
      "outputs": []
    },
    {
      "cell_type": "markdown",
      "source": [
        "# Corrección\n",
        "\n",
        "La manera correcta para poder llevar a cabo esta comparación es cuidando las dimensiones de los objetos que estamos comparando"
      ],
      "metadata": {
        "id": "Xx4odlCpi2jS"
      }
    },
    {
      "cell_type": "code",
      "source": [
        "targets.shape"
      ],
      "metadata": {
        "colab": {
          "base_uri": "https://localhost:8080/"
        },
        "id": "Yy_JLStyymJD",
        "outputId": "03b86fef-90ef-4b78-b9b2-6b9aa97d769c"
      },
      "execution_count": null,
      "outputs": [
        {
          "output_type": "execute_result",
          "data": {
            "text/plain": [
              "(284807, 1)"
            ]
          },
          "metadata": {},
          "execution_count": 20
        }
      ]
    },
    {
      "cell_type": "code",
      "source": [
        "targets2.shape"
      ],
      "metadata": {
        "colab": {
          "base_uri": "https://localhost:8080/"
        },
        "id": "IvDbovUiyn7q",
        "outputId": "2cba28a8-a9fc-463d-882f-c12cd8109496"
      },
      "execution_count": null,
      "outputs": [
        {
          "output_type": "execute_result",
          "data": {
            "text/plain": [
              "(284807,)"
            ]
          },
          "metadata": {},
          "execution_count": 21
        }
      ]
    },
    {
      "cell_type": "code",
      "source": [
        "features2 = np.array(en_dataframe.iloc[:, :-1])\n",
        "targets2 = np.array(en_dataframe.iloc[:,-1]).reshape(-1, 1)  # Cambio aqui para redimensionar\n"
      ],
      "metadata": {
        "id": "sxV440Coi_gD"
      },
      "execution_count": 12,
      "outputs": []
    },
    {
      "cell_type": "code",
      "source": [
        "np.allclose(targets, targets2, rtol=1e-05)"
      ],
      "metadata": {
        "colab": {
          "base_uri": "https://localhost:8080/"
        },
        "id": "G9GdBgCmjFt0",
        "outputId": "24ac88ae-5152-43ea-e8b8-84ae254894eb"
      },
      "execution_count": 13,
      "outputs": [
        {
          "output_type": "execute_result",
          "data": {
            "text/plain": [
              "True"
            ]
          },
          "metadata": {},
          "execution_count": 13
        }
      ]
    },
    {
      "cell_type": "markdown",
      "source": [
        "# Preparar conjunto de validación\n",
        "\n",
        "Lo haremos manual (es decir, no aleatorio)"
      ],
      "metadata": {
        "id": "q9fjnHFwHd-t"
      }
    },
    {
      "cell_type": "code",
      "source": [
        "num_val_samples = int(len(features) * 0.2)\n",
        "\n",
        "# 80% datos para entrenamiento\n",
        "train_features = features[:-num_val_samples]\n",
        "train_targets = targets[:-num_val_samples]\n",
        "\n",
        "# 20% de datos para test\n",
        "val_features = features[-num_val_samples:]\n",
        "val_targets = targets[-num_val_samples:]\n",
        "\n",
        "print(\"Número de muestras para entrenamiento:\", len(train_features))\n",
        "print(\"Número de muestras para validación:\", len(val_features))\n",
        "\n",
        "#revisar las dimensiones para evitar la memoria rompa\n",
        "\n",
        "#los 27k son para entrenamineto\n",
        "#los 59 son para test"
      ],
      "metadata": {
        "id": "OmgJqltqHS1Q",
        "colab": {
          "base_uri": "https://localhost:8080/"
        },
        "outputId": "2331e001-de1d-46a7-cc09-8a607be8fb5c"
      },
      "execution_count": 14,
      "outputs": [
        {
          "output_type": "stream",
          "name": "stdout",
          "text": [
            "Número de muestras para entrenamiento: 227846\n",
            "Número de muestras para validación: 56961\n"
          ]
        }
      ]
    },
    {
      "cell_type": "code",
      "source": [
        "num_val_samples"
      ],
      "metadata": {
        "colab": {
          "base_uri": "https://localhost:8080/"
        },
        "id": "IjbLCEs9-Gbq",
        "outputId": "b741ffb6-e375-42a2-d924-c296f7012f14"
      },
      "execution_count": 15,
      "outputs": [
        {
          "output_type": "execute_result",
          "data": {
            "text/plain": [
              "56961"
            ]
          },
          "metadata": {},
          "execution_count": 15
        }
      ]
    },
    {
      "cell_type": "markdown",
      "source": [
        "# Analizar desbalance de los datos"
      ],
      "metadata": {
        "id": "YNybjc6VH4Lh"
      }
    },
    {
      "cell_type": "code",
      "source": [
        "counts = np.bincount(train_targets[:, 0])\n",
        "print(f\"Número de valores 1 en muestra de entrenamiento: {counts[1]} ({100 * float(counts[1]) / len(train_targets):.2f}% of total)\")\n",
        "\n",
        "#los 417 son 1"
      ],
      "metadata": {
        "id": "Oj6xVYvHHUfs",
        "colab": {
          "base_uri": "https://localhost:8080/"
        },
        "outputId": "b7a1d0d4-e4ee-4ccc-ae7b-40f0dee1273a"
      },
      "execution_count": 16,
      "outputs": [
        {
          "output_type": "stream",
          "name": "stdout",
          "text": [
            "Número de valores 1 en muestra de entrenamiento: 417 (0.18% of total)\n"
          ]
        }
      ]
    },
    {
      "cell_type": "markdown",
      "source": [
        "Asignaremos pesos de una manera balanceada (es una clase de peso \"balanced\" utilizada en keras). Manualmente se calcula como:"
      ],
      "metadata": {
        "id": "uMNmSSg7RKaN"
      }
    },
    {
      "cell_type": "code",
      "source": [
        "total_counts = np.bincount(train_targets[:, 0])\n",
        "n_samples = len(train_targets)\n",
        "\n",
        "weight_for_0 = n_samples / (total_counts[0]*2)\n",
        "weight_for_1 = n_samples / (total_counts[1]*2)\n",
        "\n",
        "#counts = np.bincount(train_targets[:, 0])\n",
        "\n",
        "#weight_for_0 = 1.0 / counts[0]\n",
        "#weight_for_1 = 1.0 / counts[1]\n",
        "\n",
        "print(f\"{weight_for_0: .6f}\")\n",
        "print(f\"{weight_for_1: .4f}\")"
      ],
      "metadata": {
        "id": "LVxboEzLP0qU",
        "colab": {
          "base_uri": "https://localhost:8080/"
        },
        "outputId": "c6135f3c-f821-4593-aa98-009de621fa77"
      },
      "execution_count": 17,
      "outputs": [
        {
          "output_type": "stream",
          "name": "stdout",
          "text": [
            " 0.500917\n",
            " 273.1966\n"
          ]
        }
      ]
    },
    {
      "cell_type": "markdown",
      "source": [
        "Podemos ver que los pesos son practicamente una proporción de 500 a 1 aproximadamente"
      ],
      "metadata": {
        "id": "gB61dh8ITMUG"
      }
    },
    {
      "cell_type": "markdown",
      "source": [
        "# Estandarizar los datos"
      ],
      "metadata": {
        "id": "ChgxpOOuIB_V"
      }
    },
    {
      "cell_type": "code",
      "source": [
        "mean = np.mean(train_features, axis=0) #ojo con Axis=0 checar grabacion\n",
        "train_features -= mean\n",
        "val_features -= mean\n",
        "std = np.std(train_features, axis=0)\n",
        "train_features /= std\n",
        "val_features /= std #son promedios"
      ],
      "metadata": {
        "id": "_vnuRhp5HUdi"
      },
      "execution_count": 19,
      "outputs": []
    },
    {
      "cell_type": "markdown",
      "source": [
        "# Modelo de clasificación binaria"
      ],
      "metadata": {
        "id": "BrhhaIPuIGKD"
      }
    },
    {
      "cell_type": "markdown",
      "source": [
        "## Slicing para arrays"
      ],
      "metadata": {
        "id": "xyPAgA0rSagz"
      }
    },
    {
      "cell_type": "code",
      "source": [
        "arreglo = np.array([[1,2,3], [4,5,6]])\n",
        "arreglo"
      ],
      "metadata": {
        "colab": {
          "base_uri": "https://localhost:8080/"
        },
        "id": "D6F5_y8pDY3r",
        "outputId": "a0042eb8-134a-4585-ed6e-e70e7a5401de"
      },
      "execution_count": 20,
      "outputs": [
        {
          "output_type": "execute_result",
          "data": {
            "text/plain": [
              "array([[1, 2, 3],\n",
              "       [4, 5, 6]])"
            ]
          },
          "metadata": {},
          "execution_count": 20
        }
      ]
    },
    {
      "cell_type": "markdown",
      "source": [],
      "metadata": {
        "id": "uJNg71LcxhvY"
      }
    },
    {
      "cell_type": "code",
      "source": [
        "arreglo[:, 1:] #son filas y columnas"
      ],
      "metadata": {
        "colab": {
          "base_uri": "https://localhost:8080/"
        },
        "id": "X2kSTIvzDHPz",
        "outputId": "f6825f99-eb4e-492a-94e6-d098bffed9b2"
      },
      "execution_count": 22,
      "outputs": [
        {
          "output_type": "execute_result",
          "data": {
            "text/plain": [
              "array([[2, 3],\n",
              "       [5, 6]])"
            ]
          },
          "metadata": {},
          "execution_count": 22
        }
      ]
    },
    {
      "cell_type": "code",
      "source": [
        "# Removemos la columnas correspondiente a tiempo\n",
        "train_features = train_features[:, 1:]\n",
        "val_features = val_features[:, 1:]"
      ],
      "metadata": {
        "id": "whfjNZTZDpW2"
      },
      "execution_count": 23,
      "outputs": []
    },
    {
      "cell_type": "code",
      "source": [
        "train_features.shape[-1]"
      ],
      "metadata": {
        "colab": {
          "base_uri": "https://localhost:8080/"
        },
        "id": "otQUgpD4aHyV",
        "outputId": "5a4edd2c-130b-4c0e-bb3f-a21d7ffca934"
      },
      "execution_count": null,
      "outputs": [
        {
          "output_type": "execute_result",
          "data": {
            "text/plain": [
              "29"
            ]
          },
          "metadata": {},
          "execution_count": 36
        }
      ]
    },
    {
      "cell_type": "code",
      "source": [
        "#supervisado\n",
        "from tensorflow import keras\n",
        "import tensorflow as tf\n",
        "\n",
        "model = keras.Sequential(\n",
        "    [\n",
        "        keras.layers.Dense(\n",
        "            256, activation=\"relu\", input_shape=(train_features.shape[-1],)\n",
        "        ),\n",
        "        keras.layers.Dense(256, activation=\"relu\"),\n",
        "        keras.layers.Dropout(0.3),\n",
        "        keras.layers.Dense(256, activation=\"relu\"),\n",
        "        keras.layers.Dropout(0.3),\n",
        "        keras.layers.Dense(1, activation=\"sigmoid\"),\n",
        "    ]\n",
        ")\n",
        "model.summary()"
      ],
      "metadata": {
        "id": "c7TZxGnwHUbN",
        "colab": {
          "base_uri": "https://localhost:8080/"
        },
        "outputId": "346e09d7-f2ce-49d5-c46b-86e0a21606be"
      },
      "execution_count": 24,
      "outputs": [
        {
          "output_type": "stream",
          "name": "stdout",
          "text": [
            "Model: \"sequential\"\n",
            "_________________________________________________________________\n",
            " Layer (type)                Output Shape              Param #   \n",
            "=================================================================\n",
            " dense (Dense)               (None, 256)               7680      \n",
            "                                                                 \n",
            " dense_1 (Dense)             (None, 256)               65792     \n",
            "                                                                 \n",
            " dropout (Dropout)           (None, 256)               0         \n",
            "                                                                 \n",
            " dense_2 (Dense)             (None, 256)               65792     \n",
            "                                                                 \n",
            " dropout_1 (Dropout)         (None, 256)               0         \n",
            "                                                                 \n",
            " dense_3 (Dense)             (None, 1)                 257       \n",
            "                                                                 \n",
            "=================================================================\n",
            "Total params: 139,521\n",
            "Trainable params: 139,521\n",
            "Non-trainable params: 0\n",
            "_________________________________________________________________\n"
          ]
        }
      ]
    },
    {
      "cell_type": "markdown",
      "source": [
        "# Entrenar modelo tomando en cuenta pesos para los datos\n"
      ],
      "metadata": {
        "id": "8iUdg7wmIIRA"
      }
    },
    {
      "cell_type": "code",
      "source": [
        "metrics = [\n",
        "    keras.metrics.FalseNegatives(name=\"fn\"),\n",
        "    keras.metrics.FalsePositives(name=\"fp\"),\n",
        "    keras.metrics.TrueNegatives(name=\"tn\"),\n",
        "    keras.metrics.TruePositives(name=\"tp\"),\n",
        "    keras.metrics.Precision(name=\"precision\"),\n",
        "    keras.metrics.Recall(name=\"recall\"),\n",
        "]\n",
        "\n",
        "model.compile(\n",
        "    optimizer=keras.optimizers.Adam(0.01), loss=\"binary_crossentropy\", metrics=metrics # El 0.01 es llamado \"learning rate\"\n",
        ")\n",
        "\n",
        "# Para poder guardar info del entranamiento\n",
        "callbacks = [keras.callbacks.ModelCheckpoint(\"fraud_model_at_epoch_{epoch}.h5\")]\n",
        "\n",
        "# Utilizada para asignar pesos que \"balanceen\" las clases\n",
        "class_weight = {0: weight_for_0, 1: weight_for_1}\n",
        "\n",
        "model.fit(\n",
        "    train_features,\n",
        "    train_targets,\n",
        "    batch_size=2048, # Cantidad de datos que optimizan pesos por cada pasada, \"batch size\"\n",
        "    epochs=30, # Cantidad de pasadas que dan todos los datos, para entrenamiento\n",
        "    verbose=2,\n",
        "    callbacks=callbacks, #guardando los parametros\n",
        "    validation_data=(val_features, val_targets), # Solo para medir como va avanzando el modelo, no utiliza estos datos para modificar pesos\n",
        "    class_weight=class_weight,\n",
        ")"
      ],
      "metadata": {
        "id": "ohsmPpHnHUZH",
        "colab": {
          "base_uri": "https://localhost:8080/"
        },
        "outputId": "04d7a10d-88a3-4200-a6b5-9186d3c7cc91"
      },
      "execution_count": 25,
      "outputs": [
        {
          "output_type": "stream",
          "name": "stdout",
          "text": [
            "Epoch 1/30\n",
            "112/112 - 11s - loss: 0.5220 - fn: 50.0000 - fp: 15055.0000 - tn: 212374.0000 - tp: 367.0000 - precision: 0.0238 - recall: 0.8801 - val_loss: 0.3780 - val_fn: 8.0000 - val_fp: 1996.0000 - val_tn: 54890.0000 - val_tp: 67.0000 - val_precision: 0.0325 - val_recall: 0.8933 - 11s/epoch - 94ms/step\n",
            "Epoch 2/30\n",
            "112/112 - 7s - loss: 0.3704 - fn: 41.0000 - fp: 10581.0000 - tn: 216848.0000 - tp: 376.0000 - precision: 0.0343 - recall: 0.9017 - val_loss: 0.3580 - val_fn: 10.0000 - val_fp: 2054.0000 - val_tn: 54832.0000 - val_tp: 65.0000 - val_precision: 0.0307 - val_recall: 0.8667 - 7s/epoch - 67ms/step\n",
            "Epoch 3/30\n",
            "112/112 - 8s - loss: 0.4151 - fn: 30.0000 - fp: 12155.0000 - tn: 215274.0000 - tp: 387.0000 - precision: 0.0309 - recall: 0.9281 - val_loss: 0.4530 - val_fn: 4.0000 - val_fp: 8108.0000 - val_tn: 48778.0000 - val_tp: 71.0000 - val_precision: 0.0087 - val_recall: 0.9467 - 8s/epoch - 68ms/step\n",
            "Epoch 4/30\n",
            "112/112 - 9s - loss: 1.0225 - fn: 39.0000 - fp: 18009.0000 - tn: 209420.0000 - tp: 378.0000 - precision: 0.0206 - recall: 0.9065 - val_loss: 0.1686 - val_fn: 15.0000 - val_fp: 418.0000 - val_tn: 56468.0000 - val_tp: 60.0000 - val_precision: 0.1255 - val_recall: 0.8000 - 9s/epoch - 83ms/step\n",
            "Epoch 5/30\n",
            "112/112 - 7s - loss: 0.6483 - fn: 40.0000 - fp: 12677.0000 - tn: 214752.0000 - tp: 377.0000 - precision: 0.0289 - recall: 0.9041 - val_loss: 0.1155 - val_fn: 9.0000 - val_fp: 527.0000 - val_tn: 56359.0000 - val_tp: 66.0000 - val_precision: 0.1113 - val_recall: 0.8800 - 7s/epoch - 60ms/step\n",
            "Epoch 6/30\n",
            "112/112 - 7s - loss: 1.6217 - fn: 38.0000 - fp: 12563.0000 - tn: 214866.0000 - tp: 379.0000 - precision: 0.0293 - recall: 0.9089 - val_loss: 0.2065 - val_fn: 9.0000 - val_fp: 1171.0000 - val_tn: 55715.0000 - val_tp: 66.0000 - val_precision: 0.0534 - val_recall: 0.8800 - 7s/epoch - 61ms/step\n",
            "Epoch 7/30\n",
            "112/112 - 7s - loss: 2.1297 - fn: 40.0000 - fp: 15121.0000 - tn: 212308.0000 - tp: 377.0000 - precision: 0.0243 - recall: 0.9041 - val_loss: 0.7272 - val_fn: 16.0000 - val_fp: 163.0000 - val_tn: 56723.0000 - val_tp: 59.0000 - val_precision: 0.2658 - val_recall: 0.7867 - 7s/epoch - 64ms/step\n",
            "Epoch 8/30\n",
            "112/112 - 6s - loss: 2.7873 - fn: 45.0000 - fp: 10692.0000 - tn: 216737.0000 - tp: 372.0000 - precision: 0.0336 - recall: 0.8921 - val_loss: 0.3495 - val_fn: 12.0000 - val_fp: 1085.0000 - val_tn: 55801.0000 - val_tp: 63.0000 - val_precision: 0.0549 - val_recall: 0.8400 - 6s/epoch - 58ms/step\n",
            "Epoch 9/30\n",
            "112/112 - 7s - loss: 5.8580 - fn: 34.0000 - fp: 13799.0000 - tn: 213630.0000 - tp: 383.0000 - precision: 0.0270 - recall: 0.9185 - val_loss: 0.7986 - val_fn: 18.0000 - val_fp: 322.0000 - val_tn: 56564.0000 - val_tp: 57.0000 - val_precision: 0.1504 - val_recall: 0.7600 - 7s/epoch - 65ms/step\n",
            "Epoch 10/30\n",
            "112/112 - 6s - loss: 20.6457 - fn: 38.0000 - fp: 18180.0000 - tn: 209249.0000 - tp: 379.0000 - precision: 0.0204 - recall: 0.9089 - val_loss: 2.4204 - val_fn: 14.0000 - val_fp: 293.0000 - val_tn: 56593.0000 - val_tp: 61.0000 - val_precision: 0.1723 - val_recall: 0.8133 - 6s/epoch - 52ms/step\n",
            "Epoch 11/30\n",
            "112/112 - 8s - loss: 19.7639 - fn: 38.0000 - fp: 13940.0000 - tn: 213489.0000 - tp: 379.0000 - precision: 0.0265 - recall: 0.9089 - val_loss: 0.1659 - val_fn: 17.0000 - val_fp: 29.0000 - val_tn: 56857.0000 - val_tp: 58.0000 - val_precision: 0.6667 - val_recall: 0.7733 - 8s/epoch - 71ms/step\n",
            "Epoch 12/30\n",
            "112/112 - 6s - loss: 3.0635 - fn: 47.0000 - fp: 23686.0000 - tn: 203743.0000 - tp: 370.0000 - precision: 0.0154 - recall: 0.8873 - val_loss: 0.1742 - val_fn: 5.0000 - val_fp: 6787.0000 - val_tn: 50099.0000 - val_tp: 70.0000 - val_precision: 0.0102 - val_recall: 0.9333 - 6s/epoch - 55ms/step\n",
            "Epoch 13/30\n",
            "112/112 - 8s - loss: 1.5633 - fn: 69.0000 - fp: 11923.0000 - tn: 215506.0000 - tp: 348.0000 - precision: 0.0284 - recall: 0.8345 - val_loss: 0.1785 - val_fn: 12.0000 - val_fp: 542.0000 - val_tn: 56344.0000 - val_tp: 63.0000 - val_precision: 0.1041 - val_recall: 0.8400 - 8s/epoch - 71ms/step\n",
            "Epoch 14/30\n",
            "112/112 - 6s - loss: 1.1808 - fn: 75.0000 - fp: 13588.0000 - tn: 213841.0000 - tp: 342.0000 - precision: 0.0246 - recall: 0.8201 - val_loss: 0.2070 - val_fn: 2.0000 - val_fp: 8665.0000 - val_tn: 48221.0000 - val_tp: 73.0000 - val_precision: 0.0084 - val_recall: 0.9733 - 6s/epoch - 55ms/step\n",
            "Epoch 15/30\n",
            "112/112 - 8s - loss: 0.4144 - fn: 18.0000 - fp: 31853.0000 - tn: 195576.0000 - tp: 399.0000 - precision: 0.0124 - recall: 0.9568 - val_loss: 0.1732 - val_fn: 3.0000 - val_fp: 7329.0000 - val_tn: 49557.0000 - val_tp: 72.0000 - val_precision: 0.0097 - val_recall: 0.9600 - 8s/epoch - 73ms/step\n",
            "Epoch 16/30\n",
            "112/112 - 6s - loss: 0.8012 - fn: 61.0000 - fp: 15681.0000 - tn: 211748.0000 - tp: 356.0000 - precision: 0.0222 - recall: 0.8537 - val_loss: 0.1453 - val_fn: 14.0000 - val_fp: 483.0000 - val_tn: 56403.0000 - val_tp: 61.0000 - val_precision: 0.1121 - val_recall: 0.8133 - 6s/epoch - 53ms/step\n",
            "Epoch 17/30\n",
            "112/112 - 8s - loss: 0.3225 - fn: 58.0000 - fp: 16669.0000 - tn: 210760.0000 - tp: 359.0000 - precision: 0.0211 - recall: 0.8609 - val_loss: 0.1063 - val_fn: 18.0000 - val_fp: 17.0000 - val_tn: 56869.0000 - val_tp: 57.0000 - val_precision: 0.7703 - val_recall: 0.7600 - 8s/epoch - 73ms/step\n",
            "Epoch 18/30\n",
            "112/112 - 6s - loss: 0.3911 - fn: 45.0000 - fp: 23504.0000 - tn: 203925.0000 - tp: 372.0000 - precision: 0.0156 - recall: 0.8921 - val_loss: 0.3404 - val_fn: 14.0000 - val_fp: 7470.0000 - val_tn: 49416.0000 - val_tp: 61.0000 - val_precision: 0.0081 - val_recall: 0.8133 - 6s/epoch - 52ms/step\n",
            "Epoch 19/30\n",
            "112/112 - 8s - loss: 0.4077 - fn: 79.0000 - fp: 4876.0000 - tn: 222553.0000 - tp: 338.0000 - precision: 0.0648 - recall: 0.8106 - val_loss: 0.1289 - val_fn: 17.0000 - val_fp: 142.0000 - val_tn: 56744.0000 - val_tp: 58.0000 - val_precision: 0.2900 - val_recall: 0.7733 - 8s/epoch - 71ms/step\n",
            "Epoch 20/30\n",
            "112/112 - 6s - loss: 0.3287 - fn: 86.0000 - fp: 2154.0000 - tn: 225275.0000 - tp: 331.0000 - precision: 0.1332 - recall: 0.7938 - val_loss: 0.2267 - val_fn: 12.0000 - val_fp: 1235.0000 - val_tn: 55651.0000 - val_tp: 63.0000 - val_precision: 0.0485 - val_recall: 0.8400 - 6s/epoch - 53ms/step\n",
            "Epoch 21/30\n",
            "112/112 - 10s - loss: 0.2451 - fn: 88.0000 - fp: 1606.0000 - tn: 225823.0000 - tp: 329.0000 - precision: 0.1700 - recall: 0.7890 - val_loss: 0.1445 - val_fn: 18.0000 - val_fp: 72.0000 - val_tn: 56814.0000 - val_tp: 57.0000 - val_precision: 0.4419 - val_recall: 0.7600 - 10s/epoch - 85ms/step\n",
            "Epoch 22/30\n",
            "112/112 - 7s - loss: 0.3058 - fn: 89.0000 - fp: 1823.0000 - tn: 225606.0000 - tp: 328.0000 - precision: 0.1525 - recall: 0.7866 - val_loss: 0.1234 - val_fn: 18.0000 - val_fp: 14.0000 - val_tn: 56872.0000 - val_tp: 57.0000 - val_precision: 0.8028 - val_recall: 0.7600 - 7s/epoch - 59ms/step\n",
            "Epoch 23/30\n",
            "112/112 - 7s - loss: 0.3808 - fn: 80.0000 - fp: 7180.0000 - tn: 220249.0000 - tp: 337.0000 - precision: 0.0448 - recall: 0.8082 - val_loss: 0.1251 - val_fn: 18.0000 - val_fp: 24.0000 - val_tn: 56862.0000 - val_tp: 57.0000 - val_precision: 0.7037 - val_recall: 0.7600 - 7s/epoch - 66ms/step\n",
            "Epoch 24/30\n",
            "112/112 - 7s - loss: 0.3548 - fn: 64.0000 - fp: 18089.0000 - tn: 209340.0000 - tp: 353.0000 - precision: 0.0191 - recall: 0.8465 - val_loss: 0.1514 - val_fn: 18.0000 - val_fp: 530.0000 - val_tn: 56356.0000 - val_tp: 57.0000 - val_precision: 0.0971 - val_recall: 0.7600 - 7s/epoch - 59ms/step\n",
            "Epoch 25/30\n",
            "112/112 - 7s - loss: 0.2499 - fn: 46.0000 - fp: 16237.0000 - tn: 211192.0000 - tp: 371.0000 - precision: 0.0223 - recall: 0.8897 - val_loss: 0.1149 - val_fn: 7.0000 - val_fp: 3614.0000 - val_tn: 53272.0000 - val_tp: 68.0000 - val_precision: 0.0185 - val_recall: 0.9067 - 7s/epoch - 62ms/step\n",
            "Epoch 26/30\n",
            "112/112 - 7s - loss: 0.1634 - fn: 13.0000 - fp: 23607.0000 - tn: 203822.0000 - tp: 404.0000 - precision: 0.0168 - recall: 0.9688 - val_loss: 0.0898 - val_fn: 4.0000 - val_fp: 4137.0000 - val_tn: 52749.0000 - val_tp: 71.0000 - val_precision: 0.0169 - val_recall: 0.9467 - 7s/epoch - 63ms/step\n",
            "Epoch 27/30\n",
            "112/112 - 6s - loss: 0.1916 - fn: 13.0000 - fp: 19801.0000 - tn: 207628.0000 - tp: 404.0000 - precision: 0.0200 - recall: 0.9688 - val_loss: 0.0979 - val_fn: 4.0000 - val_fp: 4127.0000 - val_tn: 52759.0000 - val_tp: 71.0000 - val_precision: 0.0169 - val_recall: 0.9467 - 6s/epoch - 58ms/step\n",
            "Epoch 28/30\n",
            "112/112 - 8s - loss: 0.3641 - fn: 7.0000 - fp: 26177.0000 - tn: 201252.0000 - tp: 410.0000 - precision: 0.0154 - recall: 0.9832 - val_loss: 0.0971 - val_fn: 4.0000 - val_fp: 4265.0000 - val_tn: 52621.0000 - val_tp: 71.0000 - val_precision: 0.0164 - val_recall: 0.9467 - 8s/epoch - 67ms/step\n",
            "Epoch 29/30\n",
            "112/112 - 6s - loss: 0.3702 - fn: 15.0000 - fp: 27051.0000 - tn: 200378.0000 - tp: 402.0000 - precision: 0.0146 - recall: 0.9640 - val_loss: 0.1587 - val_fn: 2.0000 - val_fp: 9584.0000 - val_tn: 47302.0000 - val_tp: 73.0000 - val_precision: 0.0076 - val_recall: 0.9733 - 6s/epoch - 55ms/step\n",
            "Epoch 30/30\n",
            "112/112 - 8s - loss: 0.2532 - fn: 27.0000 - fp: 26209.0000 - tn: 201220.0000 - tp: 390.0000 - precision: 0.0147 - recall: 0.9353 - val_loss: 0.1234 - val_fn: 1.0000 - val_fp: 7558.0000 - val_tn: 49328.0000 - val_tp: 74.0000 - val_precision: 0.0097 - val_recall: 0.9867 - 8s/epoch - 71ms/step\n"
          ]
        }
      ]
    },
    {
      "cell_type": "code",
      "source": [
        "tf.keras.utils.plot_model( \n",
        "    model,\n",
        "    #to_file=\"model.png\",\n",
        "    show_shapes=True,\n",
        "    show_dtype=False,\n",
        "    show_layer_names=True,\n",
        "    #dpi=96,\n",
        ")"
      ],
      "metadata": {
        "colab": {
          "base_uri": "https://localhost:8080/",
          "height": 754
        },
        "id": "jb_Am6LkfuqG",
        "outputId": "73cb8ec9-a4fe-4fa6-ac3f-dd2efb6e8bac"
      },
      "execution_count": 26,
      "outputs": [
        {
          "output_type": "execute_result",
          "data": {
            "image/png": "[encoded data removed]",
            "text/plain": [
              "<IPython.core.display.Image object>"
            ]
          },
          "metadata": {},
          "execution_count": 26
        }
      ]
    },
    {
      "cell_type": "code",
      "source": [
        "y_train_pred = model.predict(train_features)\n",
        "y_train_pred[y_train_pred < 0.5] = 0\n",
        "y_train_pred[y_train_pred >= 0.5] = 1"
      ],
      "metadata": {
        "id": "VpjKDeemyyR5",
        "colab": {
          "base_uri": "https://localhost:8080/"
        },
        "outputId": "8d6dfa53-bb09-4a86-98a9-741634408da9"
      },
      "execution_count": 27,
      "outputs": [
        {
          "output_type": "stream",
          "name": "stdout",
          "text": [
            "7121/7121 [==============================] - 15s 2ms/step\n"
          ]
        }
      ]
    },
    {
      "cell_type": "code",
      "source": [
        "y_test_pred = model.predict(val_features)\n",
        "y_test_pred[y_test_pred < 0.5] = 0\n",
        "y_test_pred[y_test_pred >= 0.5] = 1"
      ],
      "metadata": {
        "id": "N5wnrKyvHUSa",
        "colab": {
          "base_uri": "https://localhost:8080/"
        },
        "outputId": "197d4d16-22c2-4b53-88e1-4a379d6dd9bf"
      },
      "execution_count": 28,
      "outputs": [
        {
          "output_type": "stream",
          "name": "stdout",
          "text": [
            "1781/1781 [==============================] - 4s 2ms/step\n"
          ]
        }
      ]
    },
    {
      "cell_type": "code",
      "source": [
        "len(y_test_pred[:, 0])"
      ],
      "metadata": {
        "id": "7j-utPCXxdVh",
        "colab": {
          "base_uri": "https://localhost:8080/"
        },
        "outputId": "b99f253a-ea92-43de-f456-3aa611581ebb"
      },
      "execution_count": 29,
      "outputs": [
        {
          "output_type": "execute_result",
          "data": {
            "text/plain": [
              "56961"
            ]
          },
          "metadata": {},
          "execution_count": 29
        }
      ]
    },
    {
      "cell_type": "code",
      "source": [
        "y_test_pred[:, 0].sum()"
      ],
      "metadata": {
        "id": "Kyi7Q_VCyXfP",
        "colab": {
          "base_uri": "https://localhost:8080/"
        },
        "outputId": "9be1f056-04ea-4261-edf3-fc26614e0c6f"
      },
      "execution_count": 30,
      "outputs": [
        {
          "output_type": "execute_result",
          "data": {
            "text/plain": [
              "7632.0"
            ]
          },
          "metadata": {},
          "execution_count": 30
        }
      ]
    },
    {
      "cell_type": "code",
      "source": [
        "from sklearn.metrics import ConfusionMatrixDisplay\n",
        "import matplotlib.pyplot as plt"
      ],
      "metadata": {
        "id": "YWEa45ewynAx"
      },
      "execution_count": 31,
      "outputs": []
    },
    {
      "cell_type": "code",
      "source": [
        "ConfusionMatrixDisplay.from_predictions(train_targets, y_train_pred, cmap=plt.cm.Greens)"
      ],
      "metadata": {
        "id": "A8pnRIIjyqOF",
        "colab": {
          "base_uri": "https://localhost:8080/",
          "height": 296
        },
        "outputId": "f0a8daeb-c07b-40fb-a243-a4408a73957e"
      },
      "execution_count": null,
      "outputs": [
        {
          "output_type": "execute_result",
          "data": {
            "text/plain": [
              "<sklearn.metrics._plot.confusion_matrix.ConfusionMatrixDisplay at 0x7fa74eb092e0>"
            ]
          },
          "metadata": {},
          "execution_count": 45
        },
        {
          "output_type": "display_data",
          "data": {
            "text/plain": [
              "<Figure size 432x288 with 2 Axes>"
            ],
            "image/png": "[encoded data removed]"
          },
          "metadata": {
            "needs_background": "light"
          }
        }
      ]
    },
    {
      "cell_type": "code",
      "source": [
        "# Recuperar \"pesos\" de los coeficientes en la epoca \"X\"\n",
        "# CUIDADO AL CORRER ESTA CELDA\n",
        "\n",
        "# model.load_weights(\"/content/fraud_model_at_epoch_25.h5\")"
      ],
      "metadata": {
        "id": "__GIroXqJvy9"
      },
      "execution_count": null,
      "outputs": []
    },
    {
      "cell_type": "code",
      "source": [
        "ConfusionMatrixDisplay.from_predictions(val_targets, y_test_pred, cmap=plt.cm.Greens)"
      ],
      "metadata": {
        "id": "5hoA_Ryf3LGE",
        "colab": {
          "base_uri": "https://localhost:8080/",
          "height": 296
        },
        "outputId": "e015a260-5a0a-4287-9423-9c6a7df251e0"
      },
      "execution_count": null,
      "outputs": [
        {
          "output_type": "execute_result",
          "data": {
            "text/plain": [
              "<sklearn.metrics._plot.confusion_matrix.ConfusionMatrixDisplay at 0x7fa74db5b790>"
            ]
          },
          "metadata": {},
          "execution_count": 46
        },
        {
          "output_type": "display_data",
          "data": {
            "text/plain": [
              "<Figure size 432x288 with 2 Axes>"
            ],
            "image/png": "[encoded data removed]"
          },
          "metadata": {
            "needs_background": "light"
          }
        }
      ]
    },
    {
      "cell_type": "code",
      "source": [
        "from sklearn.metrics import average_precision_score"
      ],
      "metadata": {
        "id": "G4FyL0lt1nwo"
      },
      "execution_count": 32,
      "outputs": []
    },
    {
      "cell_type": "code",
      "source": [
        "y_test_prob = model.predict(val_features)"
      ],
      "metadata": {
        "id": "uLEe0C-b2y04",
        "colab": {
          "base_uri": "https://localhost:8080/"
        },
        "outputId": "e37b3549-8bff-48e9-e58e-7d608ec0b0e4"
      },
      "execution_count": 33,
      "outputs": [
        {
          "output_type": "stream",
          "name": "stdout",
          "text": [
            "1781/1781 [==============================] - 4s 2ms/step\n"
          ]
        }
      ]
    },
    {
      "cell_type": "code",
      "source": [
        "y_test_prob"
      ],
      "metadata": {
        "colab": {
          "base_uri": "https://localhost:8080/"
        },
        "id": "6rQH2yTel2_L",
        "outputId": "9c6110fa-8f2d-4d2a-e50a-1a08a648a6c7"
      },
      "execution_count": 34,
      "outputs": [
        {
          "output_type": "execute_result",
          "data": {
            "text/plain": [
              "array([[0.        ],\n",
              "       [0.        ],\n",
              "       [0.        ],\n",
              "       ...,\n",
              "       [0.        ],\n",
              "       [0.        ],\n",
              "       [0.54253966]], dtype=float32)"
            ]
          },
          "metadata": {},
          "execution_count": 34
        }
      ]
    },
    {
      "cell_type": "code",
      "source": [
        "auprc = average_precision_score(val_targets, y_test_prob)\n",
        "auprc"
      ],
      "metadata": {
        "id": "DykriQEB2rpT",
        "colab": {
          "base_uri": "https://localhost:8080/"
        },
        "outputId": "2fd77f5c-cf23-4ea9-e8a1-72104d90addf"
      },
      "execution_count": 35,
      "outputs": [
        {
          "output_type": "execute_result",
          "data": {
            "text/plain": [
              "0.6687482145638969"
            ]
          },
          "metadata": {},
          "execution_count": 35
        }
      ]
    },
    {
      "cell_type": "code",
      "source": [
        "from sklearn.metrics import classification_report"
      ],
      "metadata": {
        "id": "_dqZX_4g5icp"
      },
      "execution_count": 36,
      "outputs": []
    },
    {
      "cell_type": "code",
      "source": [
        "print(classification_report(train_targets, y_train_pred))"
      ],
      "metadata": {
        "id": "7P-RIboL6QRL",
        "colab": {
          "base_uri": "https://localhost:8080/"
        },
        "outputId": "202ffdb0-fb16-40ad-dded-bd2b404897dd"
      },
      "execution_count": null,
      "outputs": [
        {
          "output_type": "stream",
          "name": "stdout",
          "text": [
            "              precision    recall  f1-score   support\n",
            "\n",
            "           0       1.00      0.96      0.98    227429\n",
            "           1       0.05      0.98      0.09       417\n",
            "\n",
            "    accuracy                           0.96    227846\n",
            "   macro avg       0.52      0.97      0.53    227846\n",
            "weighted avg       1.00      0.96      0.98    227846\n",
            "\n"
          ]
        }
      ]
    },
    {
      "cell_type": "code",
      "source": [
        "print(classification_report(val_targets, y_test_pred))"
      ],
      "metadata": {
        "id": "dwGZ2E21K8Lj",
        "colab": {
          "base_uri": "https://localhost:8080/"
        },
        "outputId": "65257675-a2ea-4449-bd2e-d2498d820705"
      },
      "execution_count": null,
      "outputs": [
        {
          "output_type": "stream",
          "name": "stdout",
          "text": [
            "              precision    recall  f1-score   support\n",
            "\n",
            "           0       1.00      0.97      0.98     56886\n",
            "           1       0.04      0.91      0.07        75\n",
            "\n",
            "    accuracy                           0.97     56961\n",
            "   macro avg       0.52      0.94      0.53     56961\n",
            "weighted avg       1.00      0.97      0.98     56961\n",
            "\n"
          ]
        }
      ]
    },
    {
      "cell_type": "markdown",
      "source": [
        "# Ejercicios:\n",
        "\n",
        "* ¿Que sucedería con el modelo si no usamos el parámetro \"class_weight\"?\n",
        "\n",
        "* ¿Podemos recuperar solo la mejor época de nuestro entrenamiento?\n",
        "\n",
        "* ¿Porque la matriz de confusión no parece dar mucha luz sobre lo que ocurre?"
      ],
      "metadata": {
        "id": "oQhYiG1VzGA8"
      }
    },
    {
      "cell_type": "markdown",
      "source": [
        " - Cargar los datos utilizando Pandas\n",
        " - Realizar la división de entrenamiento y prueba usando la función 'train_test_split' de sklearn"
      ],
      "metadata": {
        "id": "IPu2R9xXxXk-"
      }
    },
    {
      "cell_type": "code",
      "source": [
        "# Código de ejercicio, puede crear mas celdas\n",
        "\n"
      ],
      "metadata": {
        "id": "oC8Vlpv_xX7V"
      },
      "execution_count": null,
      "outputs": []
    }
  ]
}